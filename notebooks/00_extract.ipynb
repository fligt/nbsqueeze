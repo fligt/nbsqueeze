{
 "cells": [
  {
   "cell_type": "raw",
   "metadata": {},
   "source": [
    "---\n",
    "skip_exec: true\n",
    "---"
   ]
  },
  {
   "cell_type": "code",
   "execution_count": null,
   "metadata": {},
   "outputs": [],
   "source": [
    "#| default_exp extract"
   ]
  },
  {
   "cell_type": "markdown",
   "metadata": {},
   "source": [
    "# Squeeze your notebooks \n",
    "\n",
    "> How it works "
   ]
  },
  {
   "cell_type": "markdown",
   "metadata": {},
   "source": [
    "Here is a small example to show how you can run `nbsqueeze` from a notebook. Let's first create an in-line plot with `matplotlib`. "
   ]
  },
  {
   "cell_type": "code",
   "execution_count": null,
   "metadata": {},
   "outputs": [],
   "source": [
    "import matplotlib.pyplot as plt\n",
    "import numpy as np "
   ]
  },
  {
   "cell_type": "code",
   "execution_count": null,
   "metadata": {},
   "outputs": [
    {
     "data": {
      "text/html": [
       "..",
       "<img src=\"./images/00_extract_42f8798b76.png\">"
      ]
     },
     "execution_count": null,
     "metadata": {},
     "output_type": "execute_result"
    }
   ],
   "source": [
    "x = np.arange(40)\n",
    "y = np.cos(x)\n",
    "\n",
    "fig, ax = plt.subplots(figsize=[2, 3])\n",
    "ax.plot(x, y, 'g')"
   ]
  },
  {
   "cell_type": "markdown",
   "metadata": {},
   "source": [
    "The output plot image that we see above is encoded as a long base64 encoded png string, somewhere in this notebook. If you open this notebook file with a text editor you would see this corresponding json code for the image in the cell above: "
   ]
  },
  {
   "cell_type": "markdown",
   "metadata": {},
   "source": [
    "    {\n",
    "     \"data\": {\n",
    "      \"image/png\": \"iVBORw0KGgoAAAANSUhEUgAAAK...A.VERY.LONG.STRING.HERE...\",\n",
    "      \"text/plain\": [\n",
    "       \"<Figure size 144x216 with 1 Axes>\"\n",
    "      ]\n",
    "     },"
   ]
  },
  {
   "cell_type": "markdown",
   "metadata": {},
   "source": [
    "We can use the `squeeze_this_nb` function to extract the very long base64 png string as above, save the image as a png file in the `./images/` folder, and replace the long string with a short link to the png file.  "
   ]
  },
  {
   "cell_type": "code",
   "execution_count": null,
   "metadata": {},
   "outputs": [],
   "source": [
    "from nbsqueeze import squeeze_this_nb  "
   ]
  },
  {
   "cell_type": "code",
   "execution_count": null,
   "metadata": {},
   "outputs": [],
   "source": [
    "squeeze_this_nb()"
   ]
  },
  {
   "cell_type": "markdown",
   "metadata": {},
   "source": [
    "If we would now look at the json code of this notebook with a text editor, one would find the following updated json code: \n",
    "\n",
    "    {\n",
    "     \"data\": {\n",
    "      \"text/html\": [\n",
    "       \"..\",\n",
    "       \"<img src=\\\"./images/00_extract_361824cd7e.png\\\">\"\n",
    "      ]\n",
    "     },"
   ]
  },
  {
   "cell_type": "markdown",
   "metadata": {},
   "source": [
    "Much shorter! This means my notebook file size is much smaller. If we check the file system, the corresponding png image file is present in the `./images/` sub folder: "
   ]
  },
  {
   "cell_type": "markdown",
   "metadata": {},
   "source": [
    "    .\n",
    "    ├── 00_extract.ipynb\n",
    "    └── images\n",
    "        └── 00_extract_361824cd7e.png\n",
    "    "
   ]
  },
  {
   "cell_type": "code",
   "execution_count": null,
   "metadata": {},
   "outputs": [],
   "source": [
    "#|export \n",
    "\n",
    "import nbformat \n",
    "import re \n",
    "import hashlib \n",
    "import ipynb_path\n",
    "import base64 \n",
    "import os \n",
    "import glob"
   ]
  },
  {
   "cell_type": "code",
   "execution_count": null,
   "metadata": {},
   "outputs": [],
   "source": [
    "#|export \n",
    "\n",
    "def find_png_strings(nb_path): \n",
    "    '''Find cells with inline base64 image/png strings in `notebook_file`.\n",
    "    \n",
    "    Returns: [[cell_idx, md5, base64_string], ...]'''\n",
    "    \n",
    "    nb = nbformat.read(nb_path, as_version=nbformat.NO_CONVERT) \n",
    "    cells = nb['cells']\n",
    "    \n",
    "    cell_pngs = []\n",
    "\n",
    "    for i, cell in enumerate(cells):   \n",
    "        \n",
    "        # \n",
    "        if cell['cell_type'] == 'code':  \n",
    "\n",
    "            # extract base64 png strings \n",
    "            # not sure if multiple png strings can exist in outputs. \n",
    "            # to simplify logic return only single png string per cell \n",
    "            \n",
    "            code_cell_outputs = cell['outputs'] \n",
    "            \n",
    "            png_strings = [] \n",
    "             \n",
    "            for output in code_cell_outputs: \n",
    "                \n",
    "                # simple inline image \n",
    "                try: \n",
    "                    base64_string = output['data']['image/png']\n",
    "                    png_strings.append(base64_string) \n",
    "            \n",
    "                # old school interactive matplotlib figure \n",
    "                except: \n",
    "                    try: \n",
    "                        html_string = output['data']['text/html']\n",
    "                        m = re.match('.*base64,\\s*([^\"]+)', html_string)\n",
    "                        base64_string = m.groups()[0]\n",
    "                        png_strings.append(base64_string) \n",
    "                        \n",
    "                    except: \n",
    "                        pass\n",
    "                \n",
    "            if len(png_strings) > 0:\n",
    "                if len(png_strings) > 1: \n",
    "                    print(f'Found multiple png strings in output of cell {i}.')\n",
    "                    print(' Extracting only first png string!')\n",
    "                png_string = png_strings[0] \n",
    "                \n",
    "                md5 = hashlib.md5(png_string.encode()).hexdigest()\n",
    "                md5 = md5[0:10]\n",
    "                cell_pngs.append([i, md5, png_string]) \n",
    "                                                            \n",
    "    return cell_pngs \n",
    "\n",
    "\n",
    "def make_imdir(nb_path): \n",
    "    '''Create standard image subdirectory 'images' in current directory for notebook file `nb_path`. \n",
    "    \n",
    "    Returns: imdir_path'''\n",
    "    \n",
    "    nbdir = os.path.dirname(os.path.abspath(nb_path))\n",
    "    imdir_path = os.path.join(nbdir, 'images')\n",
    " \n",
    "    os.makedirs(imdir_path, exist_ok=True)\n",
    "    \n",
    "    return imdir_path \n",
    "   \n",
    "\n",
    "def export_pngs(nb_path, cell_pngs, imdir_path):\n",
    "    '''Save base64 png strings from `cell_pngs` as png images in `img_dir`.'''\n",
    "    \n",
    "    prefix = os.path.basename(nb_path)\n",
    "    prefix = re.sub('\\.ipynb', '', prefix)\n",
    "        \n",
    "    url_list = []                      \n",
    "\n",
    "    for idx, md5, base64_string in cell_pngs: \n",
    "        \n",
    "        decoded = base64.b64decode((base64_string))\n",
    "        png_filepath = os.path.join(imdir_path, f'{prefix}_{md5}.png')\n",
    "        \n",
    "        \n",
    "        imdir = os.path.basename(imdir_path) \n",
    "        url = [idx, f'./{imdir}/{prefix}_{md5}.png']\n",
    "        url_list.append(url)\n",
    "        \n",
    "        with open(png_filepath, 'wb') as fh: \n",
    "            \n",
    "            fh.write(decoded)\n",
    "            fh.close()\n",
    "                          \n",
    "    return url_list\n",
    "                          \n",
    "\n",
    "def replace_strings(nb_path, url_list, overwrite=True, verbose=False): \n",
    "    '''Replace base64 png strings with links. '''\n",
    "\n",
    "    nb = nbformat.read(nb_path, as_version=nbformat.NO_CONVERT) \n",
    "    \n",
    "    n_strings = len(url_list)\n",
    "\n",
    "    # replace pngs strings in specific cell outputs with links \n",
    "    for i, url in url_list: \n",
    "        nb['cells'][i].outputs = [nbformat.from_dict({'output_type': 'execute_result', \n",
    "                                   'data': {'text/html': ['..', f'<img src=\"{url}\">']}, \n",
    "                                   'execution_count': None, 'metadata': {}})]\n",
    "                \n",
    "    old_size = os.path.getsize(nb_path) \n",
    "    \n",
    "    if not overwrite: \n",
    "        nb_path = re.sub('\\.ipynb', '_sqz.ipynb', nb_path)\n",
    "        \n",
    "    if n_strings > 0: \n",
    "        \n",
    "        if verbose: \n",
    "            print(f'-- Replacing {n_strings} png string(s) with link(s)')\n",
    "\n",
    "        with open(nb_path, 'w') as fh: \n",
    "            nbformat.write(nb, fh)\n",
    "\n",
    "        new_size = os.path.getsize(nb_path) \n",
    "        \n",
    "        if verbose: \n",
    "            print(f'   File size: {old_size//1e3} Kb -> {new_size//1e3} Kb')\n",
    "        \n",
    "    else: \n",
    "        if verbose: \n",
    "            print(f'  (No png strings found)')\n",
    "        \n",
    "    \n",
    "\n",
    "def squeeze_this_nb(nb_path=None, overwrite=True, verbose=False):\n",
    "    '''Extract figure png strings from notebook `nb_path`. \n",
    "    \n",
    "    If `nb_path` is None, current notebook is used. '''\n",
    "    \n",
    "    if nb_path is None: \n",
    "        nb_path = ipynb_path.get()\n",
    "        \n",
    "    cell_pngs = find_png_strings(nb_path)\n",
    "    imdir_path = make_imdir(nb_path)\n",
    "    url_list = export_pngs(nb_path, cell_pngs, imdir_path) \n",
    "    replace_strings(nb_path, url_list, overwrite=overwrite, verbose=verbose) \n",
    "    \n",
    "    "
   ]
  }
 ],
 "metadata": {
  "kernelspec": {
   "display_name": "python3",
   "language": "python",
   "name": "python3"
  },
  "widgets": {
   "application/vnd.jupyter.widget-state+json": {
    "state": {},
    "version_major": 2,
    "version_minor": 0
   }
  }
 },
 "nbformat": 4,
 "nbformat_minor": 4
}
