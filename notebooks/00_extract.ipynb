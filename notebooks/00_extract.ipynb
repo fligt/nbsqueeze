{
 "cells": [
  {
   "cell_type": "raw",
   "metadata": {},
   "source": [
    "---\n",
    "skip_exec: true\n",
    "---"
   ]
  },
  {
   "cell_type": "code",
   "execution_count": null,
   "metadata": {},
   "outputs": [],
   "source": [
    "#| default_exp squeeze"
   ]
  },
  {
   "cell_type": "markdown",
   "metadata": {},
   "source": [
    "# Squeeze your notebooks \n",
    "\n",
    "> How it works "
   ]
  },
  {
   "cell_type": "markdown",
   "metadata": {},
   "source": [
    "A first trial... "
   ]
  },
  {
   "cell_type": "code",
   "execution_count": null,
   "metadata": {},
   "outputs": [],
   "source": [
    "from nbsqueeze import find_pngs, make_img_dir, export_pngs, replace_strings "
   ]
  },
  {
   "cell_type": "code",
   "execution_count": null,
   "metadata": {},
   "outputs": [
    {
     "name": "stdout",
     "output_type": "stream",
     "text": [
      "Writing to: example_notebook.ipynb_squeezed.ipynb...\n",
      "127.0 Kb -> 2.0 Kb\n"
     ]
    }
   ],
   "source": [
    "cell_pngs = find_pngs('example_notebook.ipynb')\n",
    "img_dir = make_img_dir('example_notebook.ipynb')\n",
    "url_list = export_pngs(cell_pngs, img_dir) \n",
    "replace_strings('example_notebook.ipynb', url_list, overwrite=False)\n"
   ]
  },
  {
   "cell_type": "code",
   "execution_count": null,
   "metadata": {},
   "outputs": [],
   "source": [
    "#|export \n",
    "\n",
    "import nbformat \n",
    "import re \n",
    "import hashlib \n",
    "import ipynb_path\n",
    "import base64 \n",
    "import os "
   ]
  },
  {
   "cell_type": "code",
   "execution_count": null,
   "metadata": {},
   "outputs": [],
   "source": [
    "#|export \n",
    "\n",
    "def find_pngs(notebook_file): \n",
    "    '''Find cells with base64 image/png strings in `notebook_file`.\n",
    "    \n",
    "    Returns: [[cell_idx, md5, base64_string], ...]'''\n",
    "    \n",
    "    nb = nbformat.read(notebook_file, as_version=nbformat.NO_CONVERT) \n",
    "    cells = nb['cells']\n",
    "    \n",
    "    cell_pngs = []\n",
    "\n",
    "    for i, cell in enumerate(cells):   \n",
    "        \n",
    "        # \n",
    "        if cell['cell_type'] == 'code':  \n",
    "\n",
    "            # extract base64 png strings \n",
    "            # not sure if multiple png strings can exist in outputs... \n",
    "            \n",
    "            code_cell_outputs = cell['outputs'] \n",
    "            \n",
    "            png_strings = [] \n",
    "             \n",
    "            for output in code_cell_outputs: \n",
    "                # simple inline image \n",
    "                try: \n",
    " \n",
    "                    base64_string = output['data']['image/png']\n",
    "                    png_strings.append(base64_string) \n",
    "            \n",
    "                # interactive matplotlib figure\n",
    "                except: \n",
    "                    try: \n",
    "                        html_string = output['data']['text/html']\n",
    "                        m = re.match('.*base64,\\s*([^\"]+)', html_string)\n",
    "                        base64_string = m.groups()[0]\n",
    "                        png_strings.append(base64_string) \n",
    "                        \n",
    "                    except: \n",
    "                        pass\n",
    "                \n",
    "            if len(png_strings) > 0:\n",
    "                if len(png_strings) > 1: \n",
    "                    print(f'Found multiple png strings in output of cell {i}.')\n",
    "                    print(' Extracting only first png string!')\n",
    "                png_string = png_strings[0] \n",
    "                \n",
    "                md5 = hashlib.md5(png_string.encode()).hexdigest()\n",
    "                md5 = md5[0:10]\n",
    "                cell_pngs.append([i, md5, png_string]) \n",
    "                \n",
    "                                            \n",
    "    return cell_pngs \n",
    "\n",
    "\n",
    "def make_img_dir(notebook_file): \n",
    "    '''Create image subdirectory in current directory for `notebook_file`. '''\n",
    "    \n",
    "    img_dir = re.sub('\\.ipynb$', '', notebook_file) + '_images' \n",
    "    os.makedirs(img_dir, exist_ok=True)\n",
    "                          \n",
    "    img_dir = os.path.basename(img_dir)\n",
    "    \n",
    "    return img_dir \n",
    "   \n",
    "\n",
    "def export_pngs(cell_pngs, img_dir):\n",
    "    '''Save base64 png strings from `cell_pngs` as png images in `img_dir`.'''\n",
    "        \n",
    "    url_list = []                      \n",
    "\n",
    "    for idx, md5, base64_string in cell_pngs: \n",
    "        \n",
    "        decoded = base64.b64decode((base64_string))\n",
    "        png_filepath = os.path.join(img_dir, f'{md5}.png')\n",
    "                          \n",
    "        url = [idx, f'./{img_dir}/{md5}.png']\n",
    "        url_list.append(url)\n",
    "        \n",
    "        with open(png_filepath, 'wb') as fh: \n",
    "            \n",
    "            fh.write(decoded)\n",
    "            fh.close()\n",
    "                          \n",
    "    return url_list\n",
    "                          \n",
    "\n",
    "def replace_strings(notebook_file, url_list, overwrite=True): \n",
    "    ''''''\n",
    "\n",
    "    nb = nbformat.read(notebook_file, as_version=nbformat.NO_CONVERT) \n",
    "\n",
    "    # replace pngs strings in specific cell outputs with links \n",
    "    for i, url in url_list: \n",
    "        nb['cells'][i].outputs = [nbformat.from_dict({'output_type': 'execute_result', \n",
    "                                   'data': {'text/html': ['..', f'<img src=\\\"{url}\\\">']}, \n",
    "                                   'execution_count': None, 'metadata': {}})]\n",
    "        \n",
    "        \n",
    "    old_size = os.path.getsize(notebook_file) \n",
    "    \n",
    "    if not overwrite: \n",
    "        notebook_file = f'{notebook_file}_squeezed.ipynb'\n",
    "        \n",
    "    print(f'Writing to: {notebook_file}...')\n",
    "    \n",
    "    with open(notebook_file, 'w') as fh: \n",
    "        nbformat.write(nb, fh)\n",
    "    \n",
    "    new_size = os.path.getsize(notebook_file) \n",
    "    \n",
    "    print(f'{old_size//1e3} Kb -> {new_size//1e3} Kb')\n",
    "   "
   ]
  }
 ],
 "metadata": {
  "kernelspec": {
   "display_name": "python3",
   "language": "python",
   "name": "python3"
  }
 },
 "nbformat": 4,
 "nbformat_minor": 4
}
