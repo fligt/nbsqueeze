{
 "cells": [
  {
   "cell_type": "raw",
   "id": "1a836a6e-c933-4351-9090-e953e75785b8",
   "metadata": {},
   "source": [
    "---\n",
    "skip_exec: true\n",
    "---"
   ]
  },
  {
   "cell_type": "markdown",
   "id": "efb2f0d5-a58f-4d16-a259-7393b6dd6922",
   "metadata": {},
   "source": [
    "# A mini example notebook with two plots"
   ]
  },
  {
   "cell_type": "markdown",
   "id": "53918061-6620-43dc-8d0d-41a2e14a6d2c",
   "metadata": {},
   "source": [
    "Another notebook with an inline and an interactive plot."
   ]
  },
  {
   "cell_type": "code",
   "execution_count": null,
   "id": "b4095861-16e6-430c-857c-d9a6aef12866",
   "metadata": {},
   "outputs": [],
   "source": [
    "import matplotlib.pyplot as plt\n",
    "import numpy as np "
   ]
  },
  {
   "cell_type": "markdown",
   "id": "9ff17b21-2ae0-4b28-9ebc-3a7b730a5522",
   "metadata": {},
   "source": [
    "Below is a code cell with with a simple tiny embedded inline png image."
   ]
  },
  {
   "cell_type": "code",
   "execution_count": null,
   "id": "d31ee0ed-9610-431a-9e06-2a3ef7e5743e",
   "metadata": {},
   "outputs": [
    {
     "data": {
      "text/html": [
       "..<img src=\"./images/21_example-notebook_f5ecf5a348.png\">"
      ]
     },
     "execution_count": null,
     "metadata": {},
     "output_type": "execute_result"
    }
   ],
   "source": [
    "x = np.arange(20)\n",
    "y = np.cos(x)\n",
    "\n",
    "fig, ax = plt.subplots(figsize=[2, 2])\n",
    "ax.plot(x, y, 'b');"
   ]
  },
  {
   "cell_type": "markdown",
   "id": "00ac8728-7dc2-4839-b659-bd193d0a0b3f",
   "metadata": {},
   "source": [
    "Interactive images produced with the `ipympl` package are slightly complicated to deal with. Here is an example how to deal with that. First active the interactive plots with the command: "
   ]
  },
  {
   "cell_type": "code",
   "execution_count": null,
   "id": "fda49de6-4180-44e8-bdf8-fa0cf60182a4",
   "metadata": {},
   "outputs": [],
   "source": [
    "%matplotlib widget"
   ]
  },
  {
   "cell_type": "markdown",
   "id": "c31453d8-dbb0-438f-8d49-ad2285a51733",
   "metadata": {},
   "source": [
    "I now generate the same plot as above, and zoom in. "
   ]
  },
  {
   "cell_type": "code",
   "execution_count": null,
   "id": "9ea1feeb-740b-489b-b473-f0de7bd8f6e8",
   "metadata": {},
   "outputs": [],
   "source": [
    "fig, ax = plt.subplots(figsize=[2, 2])\n",
    "ax.plot(x, y, 'b');"
   ]
  },
  {
   "cell_type": "markdown",
   "id": "7c8c27b9-e4d0-4d53-9f5a-b401d516e5fe",
   "metadata": {},
   "source": [
    "And save the zoom state into an inline plot with: "
   ]
  },
  {
   "cell_type": "markdown",
   "id": "2858e8c7-041f-4721-b80f-b09e4100b89b",
   "metadata": {},
   "source": [
    "    #|echo: false \n",
    "    plt.gcf()"
   ]
  },
  {
   "cell_type": "code",
   "execution_count": null,
   "id": "d5991ebe-173a-4de7-984e-000b88a5226c",
   "metadata": {},
   "outputs": [
    {
     "data": {
      "text/html": [
       "..<img src=\"./images/21_example-notebook_7b639dc9fa.png\">"
      ]
     },
     "execution_count": null,
     "metadata": {},
     "output_type": "execute_result"
    }
   ],
   "source": [
    "#|echo: false \n",
    "plt.gcf()"
   ]
  }
 ],
 "metadata": {
  "kernelspec": {
   "display_name": "python3",
   "language": "python",
   "name": "python3"
  }
 },
 "nbformat": 4,
 "nbformat_minor": 5
}
