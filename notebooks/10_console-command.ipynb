{
 "cells": [
  {
   "cell_type": "raw",
   "metadata": {},
   "source": [
    "---\n",
    "skip_exec: true\n",
    "---"
   ]
  },
  {
   "cell_type": "code",
   "execution_count": null,
   "metadata": {},
   "outputs": [],
   "source": [
    "#| default_exp squeeze"
   ]
  },
  {
   "cell_type": "markdown",
   "metadata": {},
   "source": [
    "# Run `nbsqueeze` from the command line \n",
    "\n",
    "> Squeeze all notebooks in your project at once "
   ]
  },
  {
   "cell_type": "markdown",
   "metadata": {},
   "source": [
    "For all my coding work, I use the awesome Python package [nbdev](https://nbdev.fast.ai/). Thanks to this software learned how to efficiently use Github and how to publish my own Python packages (like this one!) with beautiful documentation all rendered from a bunch of Jupyter notebooks. Ultimate freedom of expression! Now, I am pushing the nbdev machinery to it's limits due to the large amount of plots with high resolution images that I need to embed in my documentation.  \n",
    "\n",
    "In my work flow, I need to squeeze the figures out of all Jupyter notebooks in a notebooks project folder simultaneously with a single command. For this reason I created a console command `nbsqueeze` that can executed from the terminal (a.k.a. command prompt) in the root folder of a project. Simply type this: "
   ]
  },
  {
   "cell_type": "markdown",
   "metadata": {},
   "source": [
    "```{bash}\n",
    "$ nbsqueeze\n",
    "```"
   ]
  },
  {
   "cell_type": "markdown",
   "metadata": {},
   "source": [
    "The command assumes the your current working directory contains a folder named either `nbs` or `notebooks` that contain all your Jupyter notebooks. The command first identifies all figure images that have already been created, and then deletes all other obsolete image files. Subsequently it squeezes all figures from all notebooks. \n"
   ]
  },
  {
   "cell_type": "code",
   "execution_count": null,
   "metadata": {},
   "outputs": [],
   "source": [
    "#|export \n",
    "\n",
    "import glob \n",
    "from nbsqueeze import squeeze_this_nb, make_imdir \n",
    "import os\n",
    "import re "
   ]
  },
  {
   "cell_type": "code",
   "execution_count": null,
   "metadata": {},
   "outputs": [],
   "source": [
    "#|export \n",
    "\n",
    "def find_links(nb_path):\n",
    "    '''Find existing links to png images in notebook `nb_path`.'''\n",
    "    \n",
    "    if nb_path is None: \n",
    "        nb_path = ipynb_path.get()\n",
    "\n",
    "    with open(nb_path) as fh: \n",
    "        lines = fh.readlines()\n",
    "\n",
    "    links = [] \n",
    "\n",
    "    for line in lines:     \n",
    "        m = re.match(r'.*src=\\\\\"(.*\\.png)\\\\\"', line) \n",
    "\n",
    "        if m: \n",
    "            links.append(m.groups()[0]) \n",
    "            \n",
    "    return links\n",
    "\n",
    "\n",
    "def clean_imdir(nb_path, verbose=False): \n",
    "    '''Remove orphant image files corresponding to notebook `nb_path` that are not linked. '''\n",
    "\n",
    "    imdir_path = make_imdir(nb_path)\n",
    "\n",
    "    png_filenames = os.listdir(imdir_path) \n",
    "\n",
    "    # first select only (png) files that match the notebook prefix \n",
    "    prefix = re.sub('\\.ipynb', '', os.path.basename(nb_path))\n",
    "\n",
    "    nb_pngs = [png for png in png_filenames if prefix in png]\n",
    "\n",
    "    links = find_links(nb_path)\n",
    "    link_filenames = [re.sub('\\./images/', '', link) for link in links]\n",
    "\n",
    "    orphants = list(set(nb_pngs) - set(link_filenames))\n",
    "\n",
    "    orphant_fpaths = [os.path.join(imdir_path, orph) for orph in orphants]\n",
    "    \n",
    "    for fp in orphant_fpaths: \n",
    "        os.remove(fp) \n",
    "        \n",
    "    if verbose:  \n",
    "        if len(orphants) > 0: \n",
    "            print(f'    Removing {len(orphants)} orphant image files:')\n",
    "            print(orphants)\n",
    "        else: \n",
    "            print(f'  (No orphant image files found)')\n",
    "\n",
    "            \n",
    "def squeeze(glob_ptrn='n*b*s/*.ipynb', verbose=False, overwrite=True): \n",
    "    '''Extract all embedded images from all notebooks in notebooks subdirectory.\n",
    "    \n",
    "    '''\n",
    "    # locate notebooks \n",
    "    \n",
    "    notebooks = glob.glob('n*b*s/*.ipynb')\n",
    "    n = len(notebooks) \n",
    "    \n",
    "    # clean and squeeze each notebook \n",
    "        \n",
    "    for i, nb in enumerate(notebooks): \n",
    "        \n",
    "        if verbose:\n",
    "            print('-'*50) \n",
    "            print(f'Processing notebook {i+1}/{n}: {nb}')\n",
    "            \n",
    "        # clean orphant images \n",
    "        if verbose: \n",
    "            print(f'- Cleaning images folder...') \n",
    "        # first get rid of all orphant images \n",
    "        clean_imdir(nb, verbose=verbose) \n",
    "        \n",
    "        # do the actual squeezing \n",
    "        if verbose: \n",
    "            print(f'- Extracting inline images...')\n",
    "        \n",
    "        squeeze_this_nb(nb, overwrite=overwrite, verbose=verbose) \n",
    "                "
   ]
  }
 ],
 "metadata": {
  "kernelspec": {
   "display_name": "python3",
   "language": "python",
   "name": "python3"
  }
 },
 "nbformat": 4,
 "nbformat_minor": 4
}
